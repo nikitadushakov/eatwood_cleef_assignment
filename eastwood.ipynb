{
 "cells": [
  {
   "cell_type": "code",
   "execution_count": 4,
   "id": "e779ec03-9f01-4d64-b4d1-0f30b3cf5949",
   "metadata": {},
   "outputs": [],
   "source": [
    "import requests\n",
    "import pandas as pd\n",
    "from io import BytesIO"
   ]
  },
  {
   "cell_type": "code",
   "execution_count": 5,
   "id": "eb98bbc4-8ae9-463f-95d2-5b627e34bc7b",
   "metadata": {},
   "outputs": [],
   "source": [
    "data_url = \"https://docs.google.com/spreadsheets/d/\\\n",
    "12o1iofQx6V-UhInjUjLjpKxx3Z8ve8EGxnQtzNioIv4/export?\\\n",
    "format=xlsx&id=12o1iofQx6V-UhInjUjLjpKxx3Z8ve8EGxnQtzNioIv4\""
   ]
  },
  {
   "cell_type": "code",
   "execution_count": 6,
   "id": "4d80b6f9-c5dd-4b6f-97c7-2be35e785ec1",
   "metadata": {},
   "outputs": [
    {
     "ename": "ImportError",
     "evalue": "Missing optional dependency 'openpyxl'.  Use pip or conda to install openpyxl.",
     "output_type": "error",
     "traceback": [
      "\u001b[0;31m---------------------------------------------------------------------------\u001b[0m",
      "\u001b[0;31mImportError\u001b[0m                               Traceback (most recent call last)",
      "Input \u001b[0;32mIn [6]\u001b[0m, in \u001b[0;36m<module>\u001b[0;34m\u001b[0m\n\u001b[0;32m----> 1\u001b[0m df \u001b[38;5;241m=\u001b[39m \u001b[43mpd\u001b[49m\u001b[38;5;241;43m.\u001b[39;49m\u001b[43mread_excel\u001b[49m\u001b[43m(\u001b[49m\n\u001b[1;32m      2\u001b[0m \u001b[43m    \u001b[49m\u001b[43mBytesIO\u001b[49m\u001b[43m(\u001b[49m\u001b[43mrequests\u001b[49m\u001b[38;5;241;43m.\u001b[39;49m\u001b[43mget\u001b[49m\u001b[43m(\u001b[49m\u001b[43mdata_url\u001b[49m\u001b[43m)\u001b[49m\u001b[38;5;241;43m.\u001b[39;49m\u001b[43mcontent\u001b[49m\u001b[43m)\u001b[49m\n\u001b[1;32m      3\u001b[0m \u001b[43m)\u001b[49m\n",
      "File \u001b[0;32m~/opt/miniconda3/lib/python3.9/site-packages/pandas/util/_decorators.py:311\u001b[0m, in \u001b[0;36mdeprecate_nonkeyword_arguments.<locals>.decorate.<locals>.wrapper\u001b[0;34m(*args, **kwargs)\u001b[0m\n\u001b[1;32m    305\u001b[0m \u001b[38;5;28;01mif\u001b[39;00m \u001b[38;5;28mlen\u001b[39m(args) \u001b[38;5;241m>\u001b[39m num_allow_args:\n\u001b[1;32m    306\u001b[0m     warnings\u001b[38;5;241m.\u001b[39mwarn(\n\u001b[1;32m    307\u001b[0m         msg\u001b[38;5;241m.\u001b[39mformat(arguments\u001b[38;5;241m=\u001b[39marguments),\n\u001b[1;32m    308\u001b[0m         \u001b[38;5;167;01mFutureWarning\u001b[39;00m,\n\u001b[1;32m    309\u001b[0m         stacklevel\u001b[38;5;241m=\u001b[39mstacklevel,\n\u001b[1;32m    310\u001b[0m     )\n\u001b[0;32m--> 311\u001b[0m \u001b[38;5;28;01mreturn\u001b[39;00m \u001b[43mfunc\u001b[49m\u001b[43m(\u001b[49m\u001b[38;5;241;43m*\u001b[39;49m\u001b[43margs\u001b[49m\u001b[43m,\u001b[49m\u001b[43m \u001b[49m\u001b[38;5;241;43m*\u001b[39;49m\u001b[38;5;241;43m*\u001b[39;49m\u001b[43mkwargs\u001b[49m\u001b[43m)\u001b[49m\n",
      "File \u001b[0;32m~/opt/miniconda3/lib/python3.9/site-packages/pandas/io/excel/_base.py:364\u001b[0m, in \u001b[0;36mread_excel\u001b[0;34m(io, sheet_name, header, names, index_col, usecols, squeeze, dtype, engine, converters, true_values, false_values, skiprows, nrows, na_values, keep_default_na, na_filter, verbose, parse_dates, date_parser, thousands, comment, skipfooter, convert_float, mangle_dupe_cols, storage_options)\u001b[0m\n\u001b[1;32m    362\u001b[0m \u001b[38;5;28;01mif\u001b[39;00m \u001b[38;5;129;01mnot\u001b[39;00m \u001b[38;5;28misinstance\u001b[39m(io, ExcelFile):\n\u001b[1;32m    363\u001b[0m     should_close \u001b[38;5;241m=\u001b[39m \u001b[38;5;28;01mTrue\u001b[39;00m\n\u001b[0;32m--> 364\u001b[0m     io \u001b[38;5;241m=\u001b[39m \u001b[43mExcelFile\u001b[49m\u001b[43m(\u001b[49m\u001b[43mio\u001b[49m\u001b[43m,\u001b[49m\u001b[43m \u001b[49m\u001b[43mstorage_options\u001b[49m\u001b[38;5;241;43m=\u001b[39;49m\u001b[43mstorage_options\u001b[49m\u001b[43m,\u001b[49m\u001b[43m \u001b[49m\u001b[43mengine\u001b[49m\u001b[38;5;241;43m=\u001b[39;49m\u001b[43mengine\u001b[49m\u001b[43m)\u001b[49m\n\u001b[1;32m    365\u001b[0m \u001b[38;5;28;01melif\u001b[39;00m engine \u001b[38;5;129;01mand\u001b[39;00m engine \u001b[38;5;241m!=\u001b[39m io\u001b[38;5;241m.\u001b[39mengine:\n\u001b[1;32m    366\u001b[0m     \u001b[38;5;28;01mraise\u001b[39;00m \u001b[38;5;167;01mValueError\u001b[39;00m(\n\u001b[1;32m    367\u001b[0m         \u001b[38;5;124m\"\u001b[39m\u001b[38;5;124mEngine should not be specified when passing \u001b[39m\u001b[38;5;124m\"\u001b[39m\n\u001b[1;32m    368\u001b[0m         \u001b[38;5;124m\"\u001b[39m\u001b[38;5;124man ExcelFile - ExcelFile already has the engine set\u001b[39m\u001b[38;5;124m\"\u001b[39m\n\u001b[1;32m    369\u001b[0m     )\n",
      "File \u001b[0;32m~/opt/miniconda3/lib/python3.9/site-packages/pandas/io/excel/_base.py:1233\u001b[0m, in \u001b[0;36mExcelFile.__init__\u001b[0;34m(self, path_or_buffer, engine, storage_options)\u001b[0m\n\u001b[1;32m   1230\u001b[0m \u001b[38;5;28mself\u001b[39m\u001b[38;5;241m.\u001b[39mengine \u001b[38;5;241m=\u001b[39m engine\n\u001b[1;32m   1231\u001b[0m \u001b[38;5;28mself\u001b[39m\u001b[38;5;241m.\u001b[39mstorage_options \u001b[38;5;241m=\u001b[39m storage_options\n\u001b[0;32m-> 1233\u001b[0m \u001b[38;5;28mself\u001b[39m\u001b[38;5;241m.\u001b[39m_reader \u001b[38;5;241m=\u001b[39m \u001b[38;5;28;43mself\u001b[39;49m\u001b[38;5;241;43m.\u001b[39;49m\u001b[43m_engines\u001b[49m\u001b[43m[\u001b[49m\u001b[43mengine\u001b[49m\u001b[43m]\u001b[49m\u001b[43m(\u001b[49m\u001b[38;5;28;43mself\u001b[39;49m\u001b[38;5;241;43m.\u001b[39;49m\u001b[43m_io\u001b[49m\u001b[43m,\u001b[49m\u001b[43m \u001b[49m\u001b[43mstorage_options\u001b[49m\u001b[38;5;241;43m=\u001b[39;49m\u001b[43mstorage_options\u001b[49m\u001b[43m)\u001b[49m\n",
      "File \u001b[0;32m~/opt/miniconda3/lib/python3.9/site-packages/pandas/io/excel/_openpyxl.py:521\u001b[0m, in \u001b[0;36mOpenpyxlReader.__init__\u001b[0;34m(self, filepath_or_buffer, storage_options)\u001b[0m\n\u001b[1;32m    506\u001b[0m \u001b[38;5;28;01mdef\u001b[39;00m \u001b[38;5;21m__init__\u001b[39m(\n\u001b[1;32m    507\u001b[0m     \u001b[38;5;28mself\u001b[39m,\n\u001b[1;32m    508\u001b[0m     filepath_or_buffer: FilePathOrBuffer,\n\u001b[1;32m    509\u001b[0m     storage_options: StorageOptions \u001b[38;5;241m=\u001b[39m \u001b[38;5;28;01mNone\u001b[39;00m,\n\u001b[1;32m    510\u001b[0m ) \u001b[38;5;241m-\u001b[39m\u001b[38;5;241m>\u001b[39m \u001b[38;5;28;01mNone\u001b[39;00m:\n\u001b[1;32m    511\u001b[0m     \u001b[38;5;124;03m\"\"\"\u001b[39;00m\n\u001b[1;32m    512\u001b[0m \u001b[38;5;124;03m    Reader using openpyxl engine.\u001b[39;00m\n\u001b[1;32m    513\u001b[0m \n\u001b[0;32m   (...)\u001b[0m\n\u001b[1;32m    519\u001b[0m \u001b[38;5;124;03m        passed to fsspec for appropriate URLs (see ``_get_filepath_or_buffer``)\u001b[39;00m\n\u001b[1;32m    520\u001b[0m \u001b[38;5;124;03m    \"\"\"\u001b[39;00m\n\u001b[0;32m--> 521\u001b[0m     \u001b[43mimport_optional_dependency\u001b[49m\u001b[43m(\u001b[49m\u001b[38;5;124;43m\"\u001b[39;49m\u001b[38;5;124;43mopenpyxl\u001b[39;49m\u001b[38;5;124;43m\"\u001b[39;49m\u001b[43m)\u001b[49m\n\u001b[1;32m    522\u001b[0m     \u001b[38;5;28msuper\u001b[39m()\u001b[38;5;241m.\u001b[39m\u001b[38;5;21m__init__\u001b[39m(filepath_or_buffer, storage_options\u001b[38;5;241m=\u001b[39mstorage_options)\n",
      "File \u001b[0;32m~/opt/miniconda3/lib/python3.9/site-packages/pandas/compat/_optional.py:118\u001b[0m, in \u001b[0;36mimport_optional_dependency\u001b[0;34m(name, extra, errors, min_version)\u001b[0m\n\u001b[1;32m    116\u001b[0m \u001b[38;5;28;01mexcept\u001b[39;00m \u001b[38;5;167;01mImportError\u001b[39;00m:\n\u001b[1;32m    117\u001b[0m     \u001b[38;5;28;01mif\u001b[39;00m errors \u001b[38;5;241m==\u001b[39m \u001b[38;5;124m\"\u001b[39m\u001b[38;5;124mraise\u001b[39m\u001b[38;5;124m\"\u001b[39m:\n\u001b[0;32m--> 118\u001b[0m         \u001b[38;5;28;01mraise\u001b[39;00m \u001b[38;5;167;01mImportError\u001b[39;00m(msg) \u001b[38;5;28;01mfrom\u001b[39;00m \u001b[38;5;28mNone\u001b[39m\n\u001b[1;32m    119\u001b[0m     \u001b[38;5;28;01melse\u001b[39;00m:\n\u001b[1;32m    120\u001b[0m         \u001b[38;5;28;01mreturn\u001b[39;00m \u001b[38;5;28;01mNone\u001b[39;00m\n",
      "\u001b[0;31mImportError\u001b[0m: Missing optional dependency 'openpyxl'.  Use pip or conda to install openpyxl."
     ]
    }
   ],
   "source": [
    "df = pd.read_excel(\n",
    "    BytesIO(requests.get(data_url).content)\n",
    ")"
   ]
  },
  {
   "cell_type": "code",
   "execution_count": 25,
   "id": "08e3ae24-bbaf-4e37-b80c-2f97715d1d05",
   "metadata": {},
   "outputs": [],
   "source": [
    "df = df.rename(columns={i: i.lower() for i in df})"
   ]
  },
  {
   "cell_type": "code",
   "execution_count": 26,
   "id": "5078d6d2-d454-4cad-9e37-83ea0523e386",
   "metadata": {},
   "outputs": [
    {
     "data": {
      "text/html": [
       "<div>\n",
       "<style scoped>\n",
       "    .dataframe tbody tr th:only-of-type {\n",
       "        vertical-align: middle;\n",
       "    }\n",
       "\n",
       "    .dataframe tbody tr th {\n",
       "        vertical-align: top;\n",
       "    }\n",
       "\n",
       "    .dataframe thead th {\n",
       "        text-align: right;\n",
       "    }\n",
       "</style>\n",
       "<table border=\"1\" class=\"dataframe\">\n",
       "  <thead>\n",
       "    <tr style=\"text-align: right;\">\n",
       "      <th></th>\n",
       "      <th>month</th>\n",
       "      <th>service_category</th>\n",
       "      <th>claim_specialty</th>\n",
       "      <th>payer</th>\n",
       "      <th>paid_amount</th>\n",
       "    </tr>\n",
       "  </thead>\n",
       "  <tbody>\n",
       "    <tr>\n",
       "      <th>0</th>\n",
       "      <td>201801.0</td>\n",
       "      <td>AncillaryFFS</td>\n",
       "      <td>NaN</td>\n",
       "      <td>Payer F</td>\n",
       "      <td>4281.0</td>\n",
       "    </tr>\n",
       "    <tr>\n",
       "      <th>1</th>\n",
       "      <td>201801.0</td>\n",
       "      <td>AncillaryFFS</td>\n",
       "      <td>NaN</td>\n",
       "      <td>Payer H</td>\n",
       "      <td>2221.0</td>\n",
       "    </tr>\n",
       "    <tr>\n",
       "      <th>2</th>\n",
       "      <td>201801.0</td>\n",
       "      <td>AncillaryFFS</td>\n",
       "      <td>NaN</td>\n",
       "      <td>Payer O</td>\n",
       "      <td>3937.0</td>\n",
       "    </tr>\n",
       "    <tr>\n",
       "      <th>3</th>\n",
       "      <td>201801.0</td>\n",
       "      <td>AncillaryFFS</td>\n",
       "      <td>NaN</td>\n",
       "      <td>Payer W</td>\n",
       "      <td>268.0</td>\n",
       "    </tr>\n",
       "    <tr>\n",
       "      <th>4</th>\n",
       "      <td>201801.0</td>\n",
       "      <td>AncillaryFFS</td>\n",
       "      <td>ACH</td>\n",
       "      <td>Payer W</td>\n",
       "      <td>151.0</td>\n",
       "    </tr>\n",
       "    <tr>\n",
       "      <th>...</th>\n",
       "      <td>...</td>\n",
       "      <td>...</td>\n",
       "      <td>...</td>\n",
       "      <td>...</td>\n",
       "      <td>...</td>\n",
       "    </tr>\n",
       "    <tr>\n",
       "      <th>52147</th>\n",
       "      <td>202007.0</td>\n",
       "      <td>SpecialistsFFS</td>\n",
       "      <td>RADIATION ONCOLOGY</td>\n",
       "      <td>Payer F</td>\n",
       "      <td>869.0</td>\n",
       "    </tr>\n",
       "    <tr>\n",
       "      <th>52148</th>\n",
       "      <td>202007.0</td>\n",
       "      <td>SpecialistsFFS</td>\n",
       "      <td>REGISTERED NURSE</td>\n",
       "      <td>Payer H</td>\n",
       "      <td>99.0</td>\n",
       "    </tr>\n",
       "    <tr>\n",
       "      <th>52149</th>\n",
       "      <td>202007.0</td>\n",
       "      <td>SpecialistsFFS</td>\n",
       "      <td>RHEUMATOLOGY</td>\n",
       "      <td>Payer F</td>\n",
       "      <td>536.0</td>\n",
       "    </tr>\n",
       "    <tr>\n",
       "      <th>52150</th>\n",
       "      <td>202007.0</td>\n",
       "      <td>SpecialistsFFS</td>\n",
       "      <td>SPECIAL SERVICES</td>\n",
       "      <td>Payer H</td>\n",
       "      <td>1064.0</td>\n",
       "    </tr>\n",
       "    <tr>\n",
       "      <th>52151</th>\n",
       "      <td>202007.0</td>\n",
       "      <td>SpecialistsFFS</td>\n",
       "      <td>UROLOGY</td>\n",
       "      <td>Payer F</td>\n",
       "      <td>2356.0</td>\n",
       "    </tr>\n",
       "  </tbody>\n",
       "</table>\n",
       "<p>52152 rows × 5 columns</p>\n",
       "</div>"
      ],
      "text/plain": [
       "          month service_category     claim_specialty    payer  paid_amount\n",
       "0      201801.0     AncillaryFFS                 NaN  Payer F       4281.0\n",
       "1      201801.0     AncillaryFFS                 NaN  Payer H       2221.0\n",
       "2      201801.0     AncillaryFFS                 NaN  Payer O       3937.0\n",
       "3      201801.0     AncillaryFFS                 NaN  Payer W        268.0\n",
       "4      201801.0     AncillaryFFS                 ACH  Payer W        151.0\n",
       "...         ...              ...                 ...      ...          ...\n",
       "52147  202007.0   SpecialistsFFS  RADIATION ONCOLOGY  Payer F        869.0\n",
       "52148  202007.0   SpecialistsFFS    REGISTERED NURSE  Payer H         99.0\n",
       "52149  202007.0   SpecialistsFFS        RHEUMATOLOGY  Payer F        536.0\n",
       "52150  202007.0   SpecialistsFFS    SPECIAL SERVICES  Payer H       1064.0\n",
       "52151  202007.0   SpecialistsFFS             UROLOGY  Payer F       2356.0\n",
       "\n",
       "[52152 rows x 5 columns]"
      ]
     },
     "execution_count": 26,
     "metadata": {},
     "output_type": "execute_result"
    }
   ],
   "source": [
    "df"
   ]
  },
  {
   "cell_type": "code",
   "execution_count": 35,
   "id": "5c5a0cee-2398-4abf-8733-796c9648f641",
   "metadata": {},
   "outputs": [],
   "source": [
    "df['year'] = df['month'].apply(lambda x: int(x) // 100)"
   ]
  },
  {
   "cell_type": "code",
   "execution_count": 36,
   "id": "97dbd5e0-1be9-4000-9cc5-632ceaf33008",
   "metadata": {},
   "outputs": [],
   "source": [
    "df['month'] = df['month'].apply(lambda x: int(x) % 100)"
   ]
  },
  {
   "cell_type": "code",
   "execution_count": 40,
   "id": "7f9a2f53-a1ee-4574-9506-6f1c459b80ff",
   "metadata": {},
   "outputs": [
    {
     "data": {
      "text/plain": [
       "month                 0\n",
       "service_category      0\n",
       "claim_specialty     251\n",
       "payer                 0\n",
       "paid_amount           0\n",
       "year                  0\n",
       "dtype: int64"
      ]
     },
     "execution_count": 40,
     "metadata": {},
     "output_type": "execute_result"
    }
   ],
   "source": [
    "df.isna().sum()"
   ]
  },
  {
   "cell_type": "code",
   "execution_count": 41,
   "id": "66188afa-0dfc-474f-a709-c3b2061afad6",
   "metadata": {},
   "outputs": [
    {
     "data": {
      "text/html": [
       "<div>\n",
       "<style scoped>\n",
       "    .dataframe tbody tr th:only-of-type {\n",
       "        vertical-align: middle;\n",
       "    }\n",
       "\n",
       "    .dataframe tbody tr th {\n",
       "        vertical-align: top;\n",
       "    }\n",
       "\n",
       "    .dataframe thead th {\n",
       "        text-align: right;\n",
       "    }\n",
       "</style>\n",
       "<table border=\"1\" class=\"dataframe\">\n",
       "  <thead>\n",
       "    <tr style=\"text-align: right;\">\n",
       "      <th></th>\n",
       "      <th>month</th>\n",
       "      <th>service_category</th>\n",
       "      <th>claim_specialty</th>\n",
       "      <th>payer</th>\n",
       "      <th>paid_amount</th>\n",
       "      <th>year</th>\n",
       "    </tr>\n",
       "  </thead>\n",
       "  <tbody>\n",
       "    <tr>\n",
       "      <th>4</th>\n",
       "      <td>1</td>\n",
       "      <td>AncillaryFFS</td>\n",
       "      <td>ACH</td>\n",
       "      <td>Payer W</td>\n",
       "      <td>151.0</td>\n",
       "      <td>2018</td>\n",
       "    </tr>\n",
       "    <tr>\n",
       "      <th>5</th>\n",
       "      <td>1</td>\n",
       "      <td>AncillaryFFS</td>\n",
       "      <td>Advanced Registered Nurse Prac</td>\n",
       "      <td>Payer UN</td>\n",
       "      <td>0.0</td>\n",
       "      <td>2018</td>\n",
       "    </tr>\n",
       "    <tr>\n",
       "      <th>6</th>\n",
       "      <td>1</td>\n",
       "      <td>AncillaryFFS</td>\n",
       "      <td>ADVANCED RN PRACT</td>\n",
       "      <td>Payer CA</td>\n",
       "      <td>443.0</td>\n",
       "      <td>2018</td>\n",
       "    </tr>\n",
       "    <tr>\n",
       "      <th>7</th>\n",
       "      <td>1</td>\n",
       "      <td>AncillaryFFS</td>\n",
       "      <td>AMBULANCE</td>\n",
       "      <td>Payer CA</td>\n",
       "      <td>14890.0</td>\n",
       "      <td>2018</td>\n",
       "    </tr>\n",
       "    <tr>\n",
       "      <th>8</th>\n",
       "      <td>1</td>\n",
       "      <td>AncillaryFFS</td>\n",
       "      <td>AMBULANCE</td>\n",
       "      <td>Payer CO</td>\n",
       "      <td>1722.0</td>\n",
       "      <td>2018</td>\n",
       "    </tr>\n",
       "    <tr>\n",
       "      <th>...</th>\n",
       "      <td>...</td>\n",
       "      <td>...</td>\n",
       "      <td>...</td>\n",
       "      <td>...</td>\n",
       "      <td>...</td>\n",
       "      <td>...</td>\n",
       "    </tr>\n",
       "    <tr>\n",
       "      <th>52147</th>\n",
       "      <td>7</td>\n",
       "      <td>SpecialistsFFS</td>\n",
       "      <td>RADIATION ONCOLOGY</td>\n",
       "      <td>Payer F</td>\n",
       "      <td>869.0</td>\n",
       "      <td>2020</td>\n",
       "    </tr>\n",
       "    <tr>\n",
       "      <th>52148</th>\n",
       "      <td>7</td>\n",
       "      <td>SpecialistsFFS</td>\n",
       "      <td>REGISTERED NURSE</td>\n",
       "      <td>Payer H</td>\n",
       "      <td>99.0</td>\n",
       "      <td>2020</td>\n",
       "    </tr>\n",
       "    <tr>\n",
       "      <th>52149</th>\n",
       "      <td>7</td>\n",
       "      <td>SpecialistsFFS</td>\n",
       "      <td>RHEUMATOLOGY</td>\n",
       "      <td>Payer F</td>\n",
       "      <td>536.0</td>\n",
       "      <td>2020</td>\n",
       "    </tr>\n",
       "    <tr>\n",
       "      <th>52150</th>\n",
       "      <td>7</td>\n",
       "      <td>SpecialistsFFS</td>\n",
       "      <td>SPECIAL SERVICES</td>\n",
       "      <td>Payer H</td>\n",
       "      <td>1064.0</td>\n",
       "      <td>2020</td>\n",
       "    </tr>\n",
       "    <tr>\n",
       "      <th>52151</th>\n",
       "      <td>7</td>\n",
       "      <td>SpecialistsFFS</td>\n",
       "      <td>UROLOGY</td>\n",
       "      <td>Payer F</td>\n",
       "      <td>2356.0</td>\n",
       "      <td>2020</td>\n",
       "    </tr>\n",
       "  </tbody>\n",
       "</table>\n",
       "<p>51901 rows × 6 columns</p>\n",
       "</div>"
      ],
      "text/plain": [
       "       month service_category                 claim_specialty     payer  \\\n",
       "4          1     AncillaryFFS                             ACH   Payer W   \n",
       "5          1     AncillaryFFS  Advanced Registered Nurse Prac  Payer UN   \n",
       "6          1     AncillaryFFS               ADVANCED RN PRACT  Payer CA   \n",
       "7          1     AncillaryFFS                       AMBULANCE  Payer CA   \n",
       "8          1     AncillaryFFS                       AMBULANCE  Payer CO   \n",
       "...      ...              ...                             ...       ...   \n",
       "52147      7   SpecialistsFFS              RADIATION ONCOLOGY   Payer F   \n",
       "52148      7   SpecialistsFFS                REGISTERED NURSE   Payer H   \n",
       "52149      7   SpecialistsFFS                    RHEUMATOLOGY   Payer F   \n",
       "52150      7   SpecialistsFFS                SPECIAL SERVICES   Payer H   \n",
       "52151      7   SpecialistsFFS                         UROLOGY   Payer F   \n",
       "\n",
       "       paid_amount  year  \n",
       "4            151.0  2018  \n",
       "5              0.0  2018  \n",
       "6            443.0  2018  \n",
       "7          14890.0  2018  \n",
       "8           1722.0  2018  \n",
       "...            ...   ...  \n",
       "52147        869.0  2020  \n",
       "52148         99.0  2020  \n",
       "52149        536.0  2020  \n",
       "52150       1064.0  2020  \n",
       "52151       2356.0  2020  \n",
       "\n",
       "[51901 rows x 6 columns]"
      ]
     },
     "execution_count": 41,
     "metadata": {},
     "output_type": "execute_result"
    }
   ],
   "source": [
    "df.dropna()"
   ]
  },
  {
   "cell_type": "code",
   "execution_count": 42,
   "id": "20dab918-5d89-42e0-9083-3ba8f75a63ed",
   "metadata": {},
   "outputs": [
    {
     "data": {
      "text/plain": [
       "payer\n",
       "Payer B     3631\n",
       "Payer CA    8681\n",
       "Payer CO    3677\n",
       "Payer F     9020\n",
       "Payer H     2360\n",
       "Payer O     6278\n",
       "Payer S     4189\n",
       "Payer UL     685\n",
       "Payer UN    6526\n",
       "Payer W     7105\n",
       "dtype: int64"
      ]
     },
     "execution_count": 42,
     "metadata": {},
     "output_type": "execute_result"
    }
   ],
   "source": [
    "df.groupby('payer').size()"
   ]
  },
  {
   "cell_type": "code",
   "execution_count": 53,
   "id": "5dc96d31-a312-4b02-a8e9-aef97b20966a",
   "metadata": {},
   "outputs": [
    {
     "data": {
      "text/html": [
       "<div>\n",
       "<style scoped>\n",
       "    .dataframe tbody tr th:only-of-type {\n",
       "        vertical-align: middle;\n",
       "    }\n",
       "\n",
       "    .dataframe tbody tr th {\n",
       "        vertical-align: top;\n",
       "    }\n",
       "\n",
       "    .dataframe thead th {\n",
       "        text-align: right;\n",
       "    }\n",
       "</style>\n",
       "<table border=\"1\" class=\"dataframe\">\n",
       "  <thead>\n",
       "    <tr style=\"text-align: right;\">\n",
       "      <th></th>\n",
       "      <th>paid_amount</th>\n",
       "    </tr>\n",
       "    <tr>\n",
       "      <th>payer</th>\n",
       "      <th></th>\n",
       "    </tr>\n",
       "  </thead>\n",
       "  <tbody>\n",
       "    <tr>\n",
       "      <th>Payer B</th>\n",
       "      <td>663.042963</td>\n",
       "    </tr>\n",
       "    <tr>\n",
       "      <th>Payer CA</th>\n",
       "      <td>3874.604654</td>\n",
       "    </tr>\n",
       "    <tr>\n",
       "      <th>Payer CO</th>\n",
       "      <td>1378.477835</td>\n",
       "    </tr>\n",
       "    <tr>\n",
       "      <th>Payer F</th>\n",
       "      <td>9621.663858</td>\n",
       "    </tr>\n",
       "    <tr>\n",
       "      <th>Payer H</th>\n",
       "      <td>9240.631356</td>\n",
       "    </tr>\n",
       "    <tr>\n",
       "      <th>Payer O</th>\n",
       "      <td>3411.820166</td>\n",
       "    </tr>\n",
       "    <tr>\n",
       "      <th>Payer S</th>\n",
       "      <td>909.703509</td>\n",
       "    </tr>\n",
       "    <tr>\n",
       "      <th>Payer UL</th>\n",
       "      <td>452.594161</td>\n",
       "    </tr>\n",
       "    <tr>\n",
       "      <th>Payer UN</th>\n",
       "      <td>917.627184</td>\n",
       "    </tr>\n",
       "    <tr>\n",
       "      <th>Payer W</th>\n",
       "      <td>1714.419986</td>\n",
       "    </tr>\n",
       "  </tbody>\n",
       "</table>\n",
       "</div>"
      ],
      "text/plain": [
       "          paid_amount\n",
       "payer                \n",
       "Payer B    663.042963\n",
       "Payer CA  3874.604654\n",
       "Payer CO  1378.477835\n",
       "Payer F   9621.663858\n",
       "Payer H   9240.631356\n",
       "Payer O   3411.820166\n",
       "Payer S    909.703509\n",
       "Payer UL   452.594161\n",
       "Payer UN   917.627184\n",
       "Payer W   1714.419986"
      ]
     },
     "execution_count": 53,
     "metadata": {},
     "output_type": "execute_result"
    }
   ],
   "source": [
    "import numpy as np\n",
    "df.groupby('payer').agg({'paid_amount':np.mean})"
   ]
  },
  {
   "cell_type": "code",
   "execution_count": null,
   "id": "33668f8c-6ba9-4c08-b859-56e66e1a770c",
   "metadata": {},
   "outputs": [],
   "source": [
    "df.groupby('payer').agg"
   ]
  },
  {
   "cell_type": "code",
   "execution_count": 7,
   "id": "78988787-f45c-447a-bb63-23dce762967f",
   "metadata": {},
   "outputs": [
    {
     "data": {
      "text/plain": [
       "MONTH               float64\n",
       "SERVICE_CATEGORY     object\n",
       "CLAIM_SPECIALTY      object\n",
       "PAYER                object\n",
       "PAID_AMOUNT         float64\n",
       "dtype: object"
      ]
     },
     "execution_count": 7,
     "metadata": {},
     "output_type": "execute_result"
    }
   ],
   "source": [
    "df.dtypes"
   ]
  },
  {
   "cell_type": "code",
   "execution_count": 10,
   "id": "85419d17-1efa-42cf-8630-eecc32597e1b",
   "metadata": {},
   "outputs": [],
   "source": [
    "import datetime"
   ]
  },
  {
   "cell_type": "code",
   "execution_count": 23,
   "id": "23ead3f4-2128-422d-9b4e-08efc910eca7",
   "metadata": {},
   "outputs": [
    {
     "data": {
      "text/plain": [
       "datetime.date(2020, 2, 3)"
      ]
     },
     "execution_count": 23,
     "metadata": {},
     "output_type": "execute_result"
    }
   ],
   "source": [
    "datetime.date(2020, 2, 3)"
   ]
  },
  {
   "cell_type": "code",
   "execution_count": null,
   "id": "67fb2319-3ee2-4fb0-9893-421695e64967",
   "metadata": {},
   "outputs": [],
   "source": [
    "for feature in df:\n",
    "    print(feature, df[feature].isna().sum() / 52152)"
   ]
  },
  {
   "cell_type": "code",
   "execution_count": null,
   "id": "2f9fe2cf-313a-42fb-a50c-98c060546dd0",
   "metadata": {},
   "outputs": [],
   "source": [
    "df['SERVICE_CATEGORY'].unique()"
   ]
  },
  {
   "cell_type": "code",
   "execution_count": null,
   "id": "8de63f0e-1dde-4596-8cd2-a43f9f08ddfb",
   "metadata": {},
   "outputs": [],
   "source": [
    "df"
   ]
  },
  {
   "cell_type": "code",
   "execution_count": 1,
   "id": "5095a431-016b-40e6-b8aa-1aefb291224e",
   "metadata": {},
   "outputs": [],
   "source": [
    "import sys"
   ]
  },
  {
   "cell_type": "code",
   "execution_count": null,
   "id": "7f072885-d900-411e-9d3d-3de0b747fcd5",
   "metadata": {},
   "outputs": [],
   "source": []
  }
 ],
 "metadata": {
  "kernelspec": {
   "display_name": "Python 3 (ipykernel)",
   "language": "python",
   "name": "python3"
  },
  "language_info": {
   "codemirror_mode": {
    "name": "ipython",
    "version": 3
   },
   "file_extension": ".py",
   "mimetype": "text/x-python",
   "name": "python",
   "nbconvert_exporter": "python",
   "pygments_lexer": "ipython3",
   "version": "3.9.7"
  }
 },
 "nbformat": 4,
 "nbformat_minor": 5
}
